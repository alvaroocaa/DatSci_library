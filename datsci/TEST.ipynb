{
 "cells": [
  {
   "cell_type": "code",
   "execution_count": 10,
   "metadata": {},
   "outputs": [
    {
     "name": "stdout",
     "output_type": "stream",
     "text": [
      "yes\n",
      "<class 'list'>\n"
     ]
    }
   ],
   "source": [
    "dfs = ['a', 'b']\n",
    "\n",
    "if type(dfs) == list:\n",
    "\n",
    "    print('yes')\n",
    "\n",
    "print(type(dfs))"
   ]
  }
 ],
 "metadata": {
  "kernelspec": {
   "display_name": "DatSci_library",
   "language": "python",
   "name": "python3"
  },
  "language_info": {
   "codemirror_mode": {
    "name": "ipython",
    "version": 3
   },
   "file_extension": ".py",
   "mimetype": "text/x-python",
   "name": "python",
   "nbconvert_exporter": "python",
   "pygments_lexer": "ipython3",
   "version": "3.12.8"
  }
 },
 "nbformat": 4,
 "nbformat_minor": 2
}
